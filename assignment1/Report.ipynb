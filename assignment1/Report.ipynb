{
 "cells": [
  {
   "cell_type": "markdown",
   "metadata": {},
   "source": [
    "# Bandits\n",
    " In the aim of this notebook is to explain the efficacy of Thompsons sampling in Bandit Problems and compare its performance to other methods. In order to do so, first, we briefly explain the solution concepts for Bandit Problems followed by a brief introduction of existing algorithms with their shortcomings to accentuate the need for Thompson Sampling. We then enunciate on the key concepts of Thompson Sampling and present simulations comparing Thompsons sampling with other algorithms in different scenarios. Finally, we conclude by explaining some limitations of Thompsons sampling technique.\n",
    "## Solution concepts of Bandit Problems:\n",
    "   The solution concepts for Bandit problems can be broadly broken down into three categories:\n",
    "   <ol>\n",
    "  <p> <li><I>Asymptotic Correctness:</I></li>\n",
    "       Asymtotic Correctness is the simplest solution concept as it gaurantees converging to a true expected payoff/reward $q_*(a^*)$ with time($t\\rightarrow\\infty$) without any bounds.</p>\n",
    "   <p><li><I>Regret Optimality:</I></li>\n",
    "       Regret Optimality in some sense deals with the rate of convergence of a Bandit Algorithm. Regret can be defined as the loss incurred in converging to the true expected payoff/reward $q_*(a^*)$ due to the learning process. Any Bandit learning algorithm is ideally expected to converge to the true payoff $q_*(a^*)$ as quickly as possible, however, in doing so it must give away exploration and commit to exploiting with whatever estimates it has. This can sometimes lead to suboptimal outcomes as the algorithm can commit to pulling a suboptimal arm thus resulting in a constant regret. Algorithms aiming at regret optimality seek to strike a balance between this situation along with reducing the overall regret.</p>\n",
    "   <p><li><I>Probably Approximately Correct (PAC) complexity / optimality:</I></li>\n",
    "       PAC optimal algorithms provide guarantees of finding an arm $a$ whose payoff/expected reward $q_*(a)$ is close to the expected payoff of the best arm $a^*$ i.e. $q_*(a^*) $ by a some factor($\\epsilon$) i.e. $q_*(a) \\geqslant  q_*(a^*) - \\epsilon$ with a probability of at least $(1- \\delta)$. If one thinks about it this condition is very easy to satisfy if there is no limit on exploration as one can ultimately converge to the given $\\epsilon$ and $\\delta$ but the optimality part comes into picture when convergence has to be reached in minimum number of steps to satisfy the $(\\epsilon,\\delta)$ PAC guarantee. In other words, PAC optimal algorithms aim at reducing the sampling complexity learning problem as opposed to maximizing the expected reward during both exploration and exploitation.</p>\n",
    "    </ol>\n",
    "\n",
    "\n",
    " \n",
    "## Bandit Algorithms\n",
    "<ol>\n",
    " <p><li><b>Epsilon $(\\epsilon)$ Greedy selection:</b> </li>\n",
    "         The $(\\epsilon)$-Greedy or $(\\epsilon)$-First algorithm operates by initially pulling all the $K$ arms where $K \\in \\mathbb{N}$ for $\\epsilon N$ trials, $N \\in \\mathbb{N}$  and then for $(1- \\epsilon)N$ trials pulling the arm that gives the highest expected payoff. Note that here $0< \\epsilon < 1 $ and is decided by the user. The $\\epsilon$-Greedy algorithm can lead to a suboptimal outcome as it can asymptotically prevent the algorithm to choose the optimal arm. One solution for this is decreasing the $\\epsilon$ over time to facilitate asymptotic convergence to the optimal arm. This results in the optimal arm being chosen $\\epsilon_N$ times. However, this algorithm can still lead to inefficient exploration as it might too quickly commit to choosing the better performing arm earlier in the trials while assigning equal weight to another arm which might lead to better performance. Another disadvantage of this algorithm is that it keeps pulling the suboptimal arms by a probability of $\\epsilon /N$ which negatively affects the regret optimalilty.\n",
    " </p>\n",
    "</ol>\n",
    "In class, we studied epsilon-greedy and upper confidence bound (UCB), both of these algorithms handle exploration vs exploitation in different ways. Epsilon-greedy method explores with a small probability and explores otherwise. The probability remains constant through the lifetime of the agent. UCB takes inspiration from optimistic initial values and instead of setting high reward value once and for all the actions. UCB increases the reward value by a factor that both reduces by time and is different for each action. This allows the algorithm to explore all actions weighted by how often they were explored in the past.\n",
    "## Thompson Sampling \n",
    "One major problem in UCB is that it will tend to explore all the actions regardless of how low or variable the reward values are. This leads to bad decisions by the agent, because if a particular action has a reward whose upper bound is worse than another action, then we don't need to explore it. Hence, we need an algorithm which can account for both reward and its variability. "
   ]
  },
  {
   "cell_type": "code",
   "execution_count": null,
   "metadata": {
    "collapsed": false
   },
   "outputs": [
    {
     "data": {
      "text/latex": [
       "\\begin{align}\n",
       "\\nabla \\times \\vec{\\mathbf{B}} -\\, \\frac1c\\, \\frac{\\partial\\vec{\\mathbf{E}}}{\\partial t} & = \\frac{4\\pi}{c}\\vec{\\mathbf{j}} \\\\\n",
       "\\nabla \\cdot \\vec{\\mathbf{E}} & = 4 \\pi \\rho \\\\\n",
       "\\nabla \\times \\vec{\\mathbf{E}}\\, +\\, \\frac1c\\, \\frac{\\partial\\vec{\\mathbf{B}}}{\\partial t} & = \\vec{\\mathbf{0}} \\\\\n",
       "\\nabla \\cdot \\vec{\\mathbf{B}} & = 0\n",
       "\\end{align}"
      ],
      "text/plain": [
       "<IPython.core.display.Latex object>"
      ]
     },
     "metadata": {},
     "output_type": "display_data"
    }
   ],
   "source": [
    "%%latex\n",
    "\\begin{align}\n",
    "\\nabla \\times \\vec{\\mathbf{B}} -\\, \\frac1c\\, \\frac{\\partial\\vec{\\mathbf{E}}}{\\partial t} & = \\frac{4\\pi}{c}\\vec{\\mathbf{j}} \\\\\n",
    "\\nabla \\cdot \\vec{\\mathbf{E}} & = 4 \\pi \\rho \\\\\n",
    "\\nabla \\times \\vec{\\mathbf{E}}\\, +\\, \\frac1c\\, \\frac{\\partial\\vec{\\mathbf{B}}}{\\partial t} & = \\vec{\\mathbf{0}} \\\\\n",
    "\\nabla \\cdot \\vec{\\mathbf{B}} & = 0\n",
    "\\end{align}\n"
   ]
  },
  {
   "cell_type": "markdown",
   "metadata": {},
   "source": [
    "## Choose Number of Bandits and Timesteps"
   ]
  },
  {
   "cell_type": "code",
   "execution_count": 3,
   "metadata": {
    "collapsed": false
   },
   "outputs": [
    {
     "name": "stdout",
     "output_type": "stream",
     "text": [
      "Number of Bandits you want to run?: 5\n",
      "Number of Timesteps you want to run?: 2000\n"
     ]
    }
   ],
   "source": [
    "k = int(input(\"Number of Bandits you want to run?: \"))\n",
    "timesteps = int(input(\"Number of Timesteps you want to run?: \"))"
   ]
  },
  {
   "cell_type": "markdown",
   "metadata": {},
   "source": [
    "## Run and Plot experiments"
   ]
  },
  {
   "cell_type": "code",
   "execution_count": 4,
   "metadata": {
    "collapsed": false
   },
   "outputs": [
    {
     "data": {
      "image/png": "[encoded data removed]",
      "text/plain": [
       "<matplotlib.figure.Figure at 0x10a76e6d8>"
      ]
     },
     "metadata": {},
     "output_type": "display_data"
    }
   ],
   "source": [
    "from bandit import bandit\n",
    "\n",
    "trybandit = bandit(k=k)\n",
    "trybandit.start(timesteps, name=\"eps-greedy\", eps=0.01)\n",
    "trybandit.plot(\"plots\", noshow=True)\n",
    "trybandit.start(timesteps, name=\"ucb\", c=2.)\n",
    "trybandit.plot(\"plots\", noshow=True)\n",
    "trybandit.start(timesteps, name=\"thompson\")\n",
    "trybandit.plot(\"plots\")"
   ]
  },
  {
   "cell_type": "markdown",
   "metadata": {
    "collapsed": true
   },
   "source": [
    "## Analysis of Results "
   ]
  }
 ],
 "metadata": {
  "anaconda-cloud": {},
  "kernelspec": {
   "display_name": "Python [default]",
   "language": "python",
   "name": "python2"
  },
  "language_info": {
   "codemirror_mode": {
    "name": "ipython",
    "version": 2
   },
   "file_extension": ".py",
   "mimetype": "text/x-python",
   "name": "python",
   "nbconvert_exporter": "python",
   "pygments_lexer": "ipython2",
   "version": "2.7.12"
  }
 },
 "nbformat": 4,
 "nbformat_minor": 1
}
