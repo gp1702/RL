{
 "cells": [
  {
   "cell_type": "code",
   "execution_count": 1,
   "metadata": {
    "collapsed": false
   },
   "outputs": [],
   "source": [
    "import numpy as np\n",
    "import gym\n",
    "import pyprind\n",
    "from time import time"
   ]
  },
  {
   "cell_type": "code",
   "execution_count": 2,
   "metadata": {
    "collapsed": false
   },
   "outputs": [],
   "source": [
    "P_a0 = np.array([\n",
    "        [0.5, 0.5],\n",
    "        [0.0, 1.0]\n",
    "    ])\n",
    "P_a1 = np.array([\n",
    "        [0.0, 1.0],\n",
    "        [0.0, 1.0]\n",
    "    ])\n",
    "P_a2 = np.array([\n",
    "        [1.0, 0.0],\n",
    "        [0.0, 1.0]\n",
    "    ])\n",
    "P_all = np.concatenate([P_a0, P_a1, P_a2], axis=0)\n",
    "P_list = [P_a0, P_a1, P_a2]"
   ]
  },
  {
   "cell_type": "code",
   "execution_count": 3,
   "metadata": {
    "collapsed": true
   },
   "outputs": [],
   "source": [
    "R_all = np.array([\n",
    "        [5.0, 10.0, -np.inf],\n",
    "        [-np.inf, -np.inf, -1.0]\n",
    "    ])"
   ]
  },
  {
   "cell_type": "code",
   "execution_count": 4,
   "metadata": {
    "collapsed": true
   },
   "outputs": [],
   "source": [
    "gamma = 0.95\n",
    "tol = 1e-10"
   ]
  },
  {
   "cell_type": "code",
   "execution_count": 5,
   "metadata": {
    "collapsed": false
   },
   "outputs": [],
   "source": [
    "V = np.zeros(2)"
   ]
  },
  {
   "cell_type": "code",
   "execution_count": 6,
   "metadata": {
    "collapsed": false
   },
   "outputs": [
    {
     "name": "stdout",
     "output_type": "stream",
     "text": [
      "Converged after 457 iterations with error 9.828401969972982e-11\n",
      "Time taken: 0.014935016632080078 s\n"
     ]
    },
    {
     "data": {
      "text/plain": [
       "array([ -8.57142857, -20.        ])"
      ]
     },
     "execution_count": 6,
     "metadata": {},
     "output_type": "execute_result"
    }
   ],
   "source": [
    "start = time()\n",
    "for i in range(10000):\n",
    "    V_old = np.copy(V)\n",
    "    V = np.max(R_all + gamma*np.dot(P_all, V).reshape(R_all.shape, order='F'), axis=1)\n",
    "    error = np.linalg.norm(V-V_old, 2)\n",
    "    if error < tol:\n",
    "        print('Converged after {:} iterations with error {:}'.format(i+1, error))\n",
    "        break\n",
    "print('Time taken:', time() - start, 's')\n",
    "V\n"
   ]
  },
  {
   "cell_type": "code",
   "execution_count": 7,
   "metadata": {
    "collapsed": false
   },
   "outputs": [
    {
     "name": "stdout",
     "output_type": "stream",
     "text": [
      "Time taken: 0.053730010986328125 s\n"
     ]
    },
    {
     "data": {
      "text/plain": [
       "array([ -8.57142857, -20.        ])"
      ]
     },
     "execution_count": 7,
     "metadata": {},
     "output_type": "execute_result"
    }
   ],
   "source": [
    "Q = -1000*np.ones((2,3))\n",
    "A = [[0, 1], [2]]\n",
    "start = time()\n",
    "for i in range(1000):\n",
    "    for s in range(2):\n",
    "        for a in A[s]:\n",
    "            res = R_all[s, a]\n",
    "            for sprime in range(2):\n",
    "                #print(res)\n",
    "                res += gamma*P_list[a][s, sprime]*np.max(Q[sprime])\n",
    "            Q[s,a] = res\n",
    "V = np.max(Q, axis=1)\n",
    "print('Time taken:', time() - start, 's')\n",
    "V"
   ]
  },
  {
   "cell_type": "code",
   "execution_count": 8,
   "metadata": {
    "collapsed": false
   },
   "outputs": [],
   "source": [
    "V_pi = np.zeros(2)\n",
    "pi = np.zeros(2, dtype=int)"
   ]
  },
  {
   "cell_type": "code",
   "execution_count": 9,
   "metadata": {
    "collapsed": false
   },
   "outputs": [
    {
     "name": "stdout",
     "output_type": "stream",
     "text": [
      "Converged after 2 iterations\n"
     ]
    },
    {
     "data": {
      "text/plain": [
       "array([0, 2])"
      ]
     },
     "execution_count": 9,
     "metadata": {},
     "output_type": "execute_result"
    }
   ],
   "source": [
    "for i in range(1000):\n",
    "    pi_old = np.copy(pi)\n",
    "    P_pi = np.array([P_list[pi[0]][0],P_list[pi[1]][1]])\n",
    "    R_pi = np.array([R_all[0, pi[0]], R_all[1, pi[1]]])\n",
    "    #V_pi = np.linalg.solve(a=np.eye(len(P_pi))-gamma*P_pi, b=R_pi) #Policy Iteration\n",
    "    V_pi = np.max(R_all + gamma*np.dot(P_all, V_pi).reshape(R_all.shape, order='F'), axis=1) #Modified Policy Iteration\n",
    "    pi = np.argmax(R_all + gamma*np.dot(P_all, V_pi).reshape(R_all.shape, order='F'), axis=1)\n",
    "    if np.allclose(pi, pi_old):\n",
    "        print('Converged after {:} iterations'.format(i+1))\n",
    "        break\n",
    "        pass\n",
    "pi"
   ]
  },
  {
   "cell_type": "code",
   "execution_count": 10,
   "metadata": {
    "collapsed": false
   },
   "outputs": [
    {
     "data": {
      "text/plain": [
       "array([ 9.275, -1.95 ])"
      ]
     },
     "execution_count": 10,
     "metadata": {},
     "output_type": "execute_result"
    }
   ],
   "source": [
    "V_pi"
   ]
  },
  {
   "cell_type": "code",
   "execution_count": 11,
   "metadata": {
    "collapsed": false
   },
   "outputs": [],
   "source": [
    "env = gym.make(\"FrozenLake-v0\")\n",
    "#env = gym.make(\"Taxi-v2\")"
   ]
  },
  {
   "cell_type": "code",
   "execution_count": 12,
   "metadata": {
    "collapsed": false
   },
   "outputs": [
    {
     "name": "stdout",
     "output_type": "stream",
     "text": [
      "Converged after 250 iterations and error is 9.789660166799322e-07\n",
      "Title: \n",
      "  Started: 02/01/2018 23:09:26\n",
      "  Finished: 02/01/2018 23:09:27\n",
      "  Total time elapsed: 00:00:00\n"
     ]
    }
   ],
   "source": [
    "N = 10000\n",
    "Q = np.zeros((env.env.nS, env.env.nA))\n",
    "gamma = 0.99\n",
    "tol = 1e-6\n",
    "bar = pyprind.ProgBar(N)\n",
    "for i in range(N):\n",
    "    bar.update()\n",
    "    Q_old = np.copy(Q)\n",
    "    for s in range(env.env.nS):\n",
    "        for a in list(env.env.P[s].keys()):\n",
    "            res = 0.0\n",
    "            for j, sprime in enumerate([k[1] for k in env.env.P[s][a]]):\n",
    "                res += env.env.P[s][a][j][0]*(env.env.P[s][a][j][2] + gamma*np.max(Q[sprime]))\n",
    "            Q[s,a] = res\n",
    "    error = np.linalg.norm(Q-Q_old,2)\n",
    "    if error < tol:\n",
    "        print('Converged after {:} iterations and error is {:}'.format(i+1,error))\n",
    "        break\n",
    "print(bar)"
   ]
  },
  {
   "cell_type": "code",
   "execution_count": 13,
   "metadata": {
    "collapsed": false
   },
   "outputs": [
    {
     "data": {
      "text/plain": [
       "array([[ 0.54202216,  0.52775829,  0.52775829,  0.52233794],\n",
       "       [ 0.34347063,  0.33419487,  0.31993087,  0.49879819],\n",
       "       [ 0.43818494,  0.43361628,  0.42434043,  0.47068984],\n",
       "       [ 0.30608654,  0.30608654,  0.30151778,  0.45684543],\n",
       "       [ 0.55844761,  0.37958035,  0.37415995,  0.36315502],\n",
       "       [ 0.        ,  0.        ,  0.        ,  0.        ],\n",
       "       [ 0.35834555,  0.2030179 ,  0.35834555,  0.15532765],\n",
       "       [ 0.        ,  0.        ,  0.        ,  0.        ],\n",
       "       [ 0.37958035,  0.4075083 ,  0.39650337,  0.59179601],\n",
       "       [ 0.44005996,  0.64307786,  0.44778518,  0.39831058],\n",
       "       [ 0.61520584,  0.49695181,  0.40299015,  0.33046972],\n",
       "       [ 0.        ,  0.        ,  0.        ,  0.        ],\n",
       "       [ 0.        ,  0.        ,  0.        ,  0.        ],\n",
       "       [ 0.45698297,  0.52950339,  0.74171908,  0.49695181],\n",
       "       [ 0.73252134,  0.86283675,  0.82108739,  0.78111856],\n",
       "       [ 0.        ,  0.        ,  0.        ,  0.        ]])"
      ]
     },
     "execution_count": 13,
     "metadata": {},
     "output_type": "execute_result"
    }
   ],
   "source": [
    "Q"
   ]
  },
  {
   "cell_type": "code",
   "execution_count": 14,
   "metadata": {
    "collapsed": false
   },
   "outputs": [
    {
     "data": {
      "text/plain": [
       "array([ 0.54202216,  0.49879819,  0.47068984,  0.45684543,  0.55844761,\n",
       "        0.        ,  0.35834555,  0.        ,  0.59179601,  0.64307786,\n",
       "        0.61520584,  0.        ,  0.        ,  0.74171908,  0.86283675,  0.        ])"
      ]
     },
     "execution_count": 14,
     "metadata": {},
     "output_type": "execute_result"
    }
   ],
   "source": [
    "V = np.max(Q, axis=1)\n",
    "V"
   ]
  }
 ],
 "metadata": {
  "anaconda-cloud": {},
  "kernelspec": {
   "display_name": "Python [conda env:py3k]",
   "language": "python",
   "name": "conda-env-py3k-py"
  },
  "language_info": {
   "codemirror_mode": {
    "name": "ipython",
    "version": 3
   },
   "file_extension": ".py",
   "mimetype": "text/x-python",
   "name": "python",
   "nbconvert_exporter": "python",
   "pygments_lexer": "ipython3",
   "version": "3.5.2"
  }
 },
 "nbformat": 4,
 "nbformat_minor": 1
}
