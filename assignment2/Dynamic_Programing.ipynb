{
 "cells": [
  {
   "cell_type": "code",
   "execution_count": 2,
   "metadata": {},
   "outputs": [],
   "source": [
    "import numpy as np\n",
    "import gym\n",
    "\n",
    "import pyprind\n",
    "from time import time"
   ]
  },
  {
   "cell_type": "code",
   "execution_count": 177,
   "metadata": {
    "collapsed": true
   },
   "outputs": [],
   "source": [
    "P_a0 = np.array([\n",
    "        [0.5, 0.5],\n",
    "        [0.0, 1.0]\n",
    "    ])\n",
    "P_a1 = np.array([\n",
    "        [0.0, 1.0],\n",
    "        [0.0, 1.0]\n",
    "    ])\n",
    "P_a2 = np.array([\n",
    "        [1.0, 0.0],\n",
    "        [0.0, 1.0]\n",
    "    ])\n",
    "P_all = np.concatenate([P_a0, P_a1, P_a2], axis=0)\n",
    "P_list = [P_a0, P_a1, P_a2]"
   ]
  },
  {
   "cell_type": "code",
   "execution_count": 178,
   "metadata": {
    "collapsed": true
   },
   "outputs": [],
   "source": [
    "R_all = np.array([\n",
    "        [5.0, 10.0, -np.inf],\n",
    "        [-np.inf, -np.inf, -1.0]\n",
    "    ])"
   ]
  },
  {
   "cell_type": "code",
   "execution_count": 179,
   "metadata": {
    "collapsed": true
   },
   "outputs": [],
   "source": [
    "gamma = 0.95\n",
    "tol = 1e-10"
   ]
  },
  {
   "cell_type": "code",
   "execution_count": 180,
   "metadata": {
    "collapsed": true
   },
   "outputs": [],
   "source": [
    "V = np.zeros(2)"
   ]
  },
  {
   "cell_type": "code",
   "execution_count": 16,
   "metadata": {},
   "outputs": [
    {
     "data": {
      "text/plain": [
       "array([[ 0.,  0.,  0.],\n",
       "       [ 0.,  0.,  0.]])"
      ]
     },
     "execution_count": 16,
     "metadata": {},
     "output_type": "execute_result"
    }
   ],
   "source": [
    "gamma*np.dot(P_all, V).reshape(R_all.shape, order='F')"
   ]
  },
  {
   "cell_type": "code",
   "execution_count": null,
   "metadata": {
    "collapsed": true
   },
   "outputs": [],
   "source": []
  },
  {
   "cell_type": "code",
   "execution_count": null,
   "metadata": {
    "collapsed": true
   },
   "outputs": [],
   "source": []
  },
  {
   "cell_type": "code",
   "execution_count": null,
   "metadata": {
    "collapsed": true
   },
   "outputs": [],
   "source": []
  },
  {
   "cell_type": "code",
   "execution_count": null,
   "metadata": {
    "collapsed": true
   },
   "outputs": [],
   "source": []
  },
  {
   "cell_type": "code",
   "execution_count": 17,
   "metadata": {},
   "outputs": [
    {
     "name": "stdout",
     "output_type": "stream",
     "text": [
      "Converged after 457 iterations with error 9.828401969972982e-11\n",
      "Time taken: 0.014429569244384766 s\n"
     ]
    },
    {
     "data": {
      "text/plain": [
       "array([ -8.57142857, -20.        ])"
      ]
     },
     "execution_count": 17,
     "metadata": {},
     "output_type": "execute_result"
    }
   ],
   "source": [
    "start = time()\n",
    "for i in range(1000):\n",
    "    V_old = np.copy(V)\n",
    "    V = np.max(R_all + gamma*np.dot(P_all, V).reshape(R_all.shape, order='F'), axis=1)\n",
    "    error = np.linalg.norm(V-V_old, 2)\n",
    "    if error < tol:\n",
    "        print('Converged after {:} iterations with error {:}'.format(i+1, error))\n",
    "        break\n",
    "print('Time taken:', time() - start, 's')\n",
    "V\n"
   ]
  },
  {
   "cell_type": "code",
   "execution_count": 18,
   "metadata": {},
   "outputs": [
    {
     "name": "stdout",
     "output_type": "stream",
     "text": [
      "Time taken: 0.0657036304473877 s\n"
     ]
    },
    {
     "data": {
      "text/plain": [
       "array([ -8.57142857, -20.        ])"
      ]
     },
     "execution_count": 18,
     "metadata": {},
     "output_type": "execute_result"
    }
   ],
   "source": [
    "Q = -1000*np.ones((2,3))\n",
    "A = [[0, 1], [2]]\n",
    "start = time()\n",
    "for i in range(1000):\n",
    "    for s in range(2):\n",
    "        for a in A[s]:\n",
    "            res = R_all[s, a]\n",
    "            for sprime in range(2):\n",
    "                #print(res)\n",
    "                res += gamma*P_list[a][s, sprime]*np.max(Q[sprime])\n",
    "            Q[s,a] = res\n",
    "V = np.max(Q, axis=1)\n",
    "print('Time taken:', time() - start, 's')\n",
    "V"
   ]
  },
  {
   "cell_type": "code",
   "execution_count": 168,
   "metadata": {
    "collapsed": true
   },
   "outputs": [],
   "source": []
  },
  {
   "cell_type": "code",
   "execution_count": 183,
   "metadata": {},
   "outputs": [
    {
     "name": "stdout",
     "output_type": "stream",
     "text": [
      "Converged after 2 iterations\n"
     ]
    },
    {
     "data": {
      "text/plain": [
       "array([0, 2])"
      ]
     },
     "execution_count": 183,
     "metadata": {},
     "output_type": "execute_result"
    }
   ],
   "source": [
    "V_pi = np.zeros(2)\n",
    "pi = np.zeros(2, dtype=int)\n",
    "for i in range(900000):\n",
    "    pi_old = np.copy(pi)\n",
    "    P_pi = np.array([P_list[pi[0]][0],P_list[pi[1]][1]])\n",
    "    R_pi = np.array([R_all[0, pi[0]], R_all[1, pi[1]]])\n",
    "    #V_pi = np.linalg.solve(a=np.eye(len(P_pi))-gamma*P_pi, b=R_pi) #Policy Iteration\n",
    "    V_pi = np.max(R_all + gamma*np.dot(P_all, V_pi).reshape(R_all.shape, order='F'), axis=1) #Modified Policy Iteration\n",
    "    pi = np.argmax(R_all + gamma*np.dot(P_all, V_pi).reshape(R_all.shape, order='F'), axis=1)\n",
    "    if np.allclose(pi, pi_old):\n",
    "        print('Converged after {:} iterations'.format(i+1))\n",
    "        break\n",
    "        pass\n",
    "pi"
   ]
  },
  {
   "cell_type": "code",
   "execution_count": 184,
   "metadata": {},
   "outputs": [
    {
     "data": {
      "text/plain": [
       "array([ 9.275, -1.95 ])"
      ]
     },
     "execution_count": 184,
     "metadata": {},
     "output_type": "execute_result"
    }
   ],
   "source": [
    "V_pi"
   ]
  },
  {
   "cell_type": "code",
   "execution_count": 167,
   "metadata": {},
   "outputs": [
    {
     "data": {
      "text/plain": [
       "array([[ 0.,  1.],\n",
       "       [ 0.,  1.]])"
      ]
     },
     "execution_count": 167,
     "metadata": {},
     "output_type": "execute_result"
    }
   ],
   "source": [
    "np.array([P_list[pi[0]][0],P_list[pi[1]][1]])"
   ]
  },
  {
   "cell_type": "code",
   "execution_count": null,
   "metadata": {
    "collapsed": true
   },
   "outputs": [],
   "source": []
  },
  {
   "cell_type": "code",
   "execution_count": null,
   "metadata": {
    "collapsed": true
   },
   "outputs": [],
   "source": []
  },
  {
   "cell_type": "code",
   "execution_count": null,
   "metadata": {
    "collapsed": true
   },
   "outputs": [],
   "source": []
  },
  {
   "cell_type": "code",
   "execution_count": null,
   "metadata": {
    "collapsed": true
   },
   "outputs": [],
   "source": []
  },
  {
   "cell_type": "code",
   "execution_count": 107,
   "metadata": {
    "collapsed": true
   },
   "outputs": [],
   "source": [
    "env = gym.make(\"FrozenLake-v0\")\n",
    "#env = gym.make(\"Taxi-v2\")"
   ]
  },
  {
   "cell_type": "code",
   "execution_count": 71,
   "metadata": {},
   "outputs": [
    {
     "name": "stdout",
     "output_type": "stream",
     "text": [
      "Converged after 6 iterations and error is 8.513109932571311e-08\n",
      "Title: \n",
      "  Started: 02/02/2018 18:56:44\n",
      "  Finished: 02/02/2018 18:56:44\n",
      "  Total time elapsed: 00:00:00\n"
     ]
    }
   ],
   "source": [
    "N = 10000\n",
    "Q = np.zeros((env.env.nS, env.env.nA))\n",
    "gamma = 0.1\n",
    "tol = 1e-6\n",
    "bar = pyprind.ProgBar(N)\n",
    "for i in range(N):\n",
    "    bar.update()\n",
    "    Q_old = np.copy(Q)\n",
    "    for s in range(env.env.nS):\n",
    "        for a in list(env.env.P[s].keys()):\n",
    "            res = 0.0\n",
    "            for j, sprime in enumerate([k[1] for k in env.env.P[s][a]]):\n",
    "                res += env.env.P[s][a][j][0]*(env.env.P[s][a][j][2] + gamma*np.max(Q[sprime]))\n",
    "            Q[s,a] = res\n",
    "    error = np.linalg.norm(Q-Q_old,2)\n",
    "    if error < tol:\n",
    "        print('Converged after {:} iterations and error is {:}'.format(i+1,error))\n",
    "        break\n",
    "print(bar)\n",
    "V = np.max(Q, axis=1)"
   ]
  },
  {
   "cell_type": "code",
   "execution_count": 48,
   "metadata": {},
   "outputs": [
    {
     "data": {
      "text/plain": [
       "dict_keys([0, 1, 2, 3])"
      ]
     },
     "execution_count": 48,
     "metadata": {},
     "output_type": "execute_result"
    }
   ],
   "source": [
    "env.env.P[5].keys()"
   ]
  },
  {
   "cell_type": "code",
   "execution_count": 44,
   "metadata": {},
   "outputs": [
    {
     "data": {
      "text/plain": [
       "16"
      ]
     },
     "execution_count": 44,
     "metadata": {},
     "output_type": "execute_result"
    }
   ],
   "source": [
    "env.env.nS"
   ]
  },
  {
   "cell_type": "code",
   "execution_count": 60,
   "metadata": {},
   "outputs": [
    {
     "data": {
      "text/plain": [
       "500"
      ]
     },
     "execution_count": 60,
     "metadata": {},
     "output_type": "execute_result"
    }
   ],
   "source": [
    "env.env.nS"
   ]
  },
  {
   "cell_type": "code",
   "execution_count": null,
   "metadata": {
    "collapsed": true
   },
   "outputs": [],
   "source": []
  },
  {
   "cell_type": "code",
   "execution_count": 73,
   "metadata": {},
   "outputs": [],
   "source": [
    "V_policy = np.zeros(env.env.nS)\n",
    "policy = np.zeros(env.env.nS, dtype=int)\n",
    " "
   ]
  },
  {
   "cell_type": "code",
   "execution_count": 77,
   "metadata": {},
   "outputs": [
    {
     "data": {
      "text/plain": [
       "{0: [(0.3333333333333333, 6, 0.0, False),\n",
       "  (0.3333333333333333, 9, 0.0, False),\n",
       "  (0.3333333333333333, 14, 0.0, False)],\n",
       " 1: [(0.3333333333333333, 9, 0.0, False),\n",
       "  (0.3333333333333333, 14, 0.0, False),\n",
       "  (0.3333333333333333, 11, 0.0, True)],\n",
       " 2: [(0.3333333333333333, 14, 0.0, False),\n",
       "  (0.3333333333333333, 11, 0.0, True),\n",
       "  (0.3333333333333333, 6, 0.0, False)],\n",
       " 3: [(0.3333333333333333, 11, 0.0, True),\n",
       "  (0.3333333333333333, 6, 0.0, False),\n",
       "  (0.3333333333333333, 9, 0.0, False)]}"
      ]
     },
     "execution_count": 77,
     "metadata": {},
     "output_type": "execute_result"
    }
   ],
   "source": [
    "env.env.P[10]"
   ]
  },
  {
   "cell_type": "code",
   "execution_count": 108,
   "metadata": {},
   "outputs": [],
   "source": [
    "\n",
    "nA, nS = env.env.nA, env.env.nS\n",
    "\n"
   ]
  },
  {
   "cell_type": "code",
   "execution_count": 109,
   "metadata": {
    "collapsed": true
   },
   "outputs": [],
   "source": [
    "T = np.zeros([nS, nA, nS])\n",
    "R = np.zeros([nS, nA, nS])"
   ]
  },
  {
   "cell_type": "code",
   "execution_count": 110,
   "metadata": {},
   "outputs": [],
   "source": [
    "for s in range(nS):\n",
    "    for a in range(nA):\n",
    "        transitions = env.env.P[s][a]\n",
    "        for p_trans,next_s,rew,done in transitions:\n",
    "            T[s,a,next_s] += p_trans\n",
    "            R[s,a,next_s] = rew\n",
    "        T[s,a,:]/=np.sum(T[s,a,:])"
   ]
  },
  {
   "cell_type": "code",
   "execution_count": 123,
   "metadata": {},
   "outputs": [
    {
     "name": "stdout",
     "output_type": "stream",
     "text": [
      "[(0.3333333333333333, 14, 0.0, False), (0.3333333333333333, 11, 0.0, True), (0.3333333333333333, 6, 0.0, False)]\n"
     ]
    }
   ],
   "source": [
    "# for s in range(nS):\n",
    "#      for a in range(nA):\n",
    "print(env.env.P[10][2])"
   ]
  },
  {
   "cell_type": "code",
   "execution_count": 144,
   "metadata": {},
   "outputs": [
    {
     "name": "stdout",
     "output_type": "stream",
     "text": [
      "0 0\n",
      "1 0\n",
      "2 4\n",
      "0 0\n",
      "1 4\n",
      "2 1\n",
      "0 4\n",
      "1 1\n",
      "2 0\n",
      "0 1\n",
      "1 0\n",
      "2 0\n",
      "0 1\n",
      "1 0\n",
      "2 5\n",
      "0 0\n",
      "1 5\n",
      "2 2\n",
      "0 5\n",
      "1 2\n",
      "2 1\n",
      "0 2\n",
      "1 1\n",
      "2 0\n",
      "0 2\n",
      "1 1\n",
      "2 6\n",
      "0 1\n",
      "1 6\n",
      "2 3\n",
      "0 6\n",
      "1 3\n",
      "2 2\n",
      "0 3\n",
      "1 2\n",
      "2 1\n",
      "0 3\n",
      "1 2\n",
      "2 7\n",
      "0 2\n",
      "1 7\n",
      "2 3\n",
      "0 7\n",
      "1 3\n",
      "2 3\n",
      "0 3\n",
      "1 3\n",
      "2 2\n",
      "0 0\n",
      "1 4\n",
      "2 8\n",
      "0 4\n",
      "1 8\n",
      "2 5\n",
      "0 8\n",
      "1 5\n",
      "2 0\n",
      "0 5\n",
      "1 0\n",
      "2 4\n",
      "0 5\n",
      "0 5\n",
      "0 5\n",
      "0 5\n",
      "0 2\n",
      "1 5\n",
      "2 10\n",
      "0 5\n",
      "1 10\n",
      "2 7\n",
      "0 10\n",
      "1 7\n",
      "2 2\n",
      "0 7\n",
      "1 2\n",
      "2 5\n",
      "0 7\n",
      "0 7\n",
      "0 7\n",
      "0 7\n",
      "0 4\n",
      "1 8\n",
      "2 12\n",
      "0 8\n",
      "1 12\n",
      "2 9\n",
      "0 12\n",
      "1 9\n",
      "2 4\n",
      "0 9\n",
      "1 4\n",
      "2 8\n",
      "0 5\n",
      "1 8\n",
      "2 13\n",
      "0 8\n",
      "1 13\n",
      "2 10\n",
      "0 13\n",
      "1 10\n",
      "2 5\n",
      "0 10\n",
      "1 5\n",
      "2 8\n",
      "0 6\n",
      "1 9\n",
      "2 14\n",
      "0 9\n",
      "1 14\n",
      "2 11\n",
      "0 14\n",
      "1 11\n",
      "2 6\n",
      "0 11\n",
      "1 6\n",
      "2 9\n",
      "0 11\n",
      "0 11\n",
      "0 11\n",
      "0 11\n",
      "0 12\n",
      "0 12\n",
      "0 12\n",
      "0 12\n",
      "0 9\n",
      "1 12\n",
      "2 13\n",
      "0 12\n",
      "1 13\n",
      "2 14\n",
      "0 13\n",
      "1 14\n",
      "2 9\n",
      "0 14\n",
      "1 9\n",
      "2 12\n",
      "0 10\n",
      "1 13\n",
      "2 14\n",
      "0 13\n",
      "1 14\n",
      "2 15\n",
      "0 14\n",
      "1 15\n",
      "2 10\n",
      "0 15\n",
      "1 10\n",
      "2 13\n",
      "0 15\n",
      "0 15\n",
      "0 15\n",
      "0 15\n"
     ]
    }
   ],
   "source": [
    "for s in range(nS):\n",
    "      for a in range(nA):\n",
    "             for j, sprime in enumerate([k[1] for k in env.env.P[s][a]]):\n",
    "                    print(j,sprime)\n",
    "                    "
   ]
  },
  {
   "cell_type": "code",
   "execution_count": 152,
   "metadata": {},
   "outputs": [
    {
     "ename": "TypeError",
     "evalue": "'float' object is not subscriptable",
     "output_type": "error",
     "traceback": [
      "\u001b[0;31m---------------------------------------------------------------------------\u001b[0m",
      "\u001b[0;31mTypeError\u001b[0m                                 Traceback (most recent call last)",
      "\u001b[0;32m<ipython-input-152-a5eabc0744b2>\u001b[0m in \u001b[0;36m<module>\u001b[0;34m()\u001b[0m\n\u001b[0;32m----> 1\u001b[0;31m \u001b[0;34m[\u001b[0m\u001b[0mk\u001b[0m\u001b[0;34m[\u001b[0m\u001b[0;36m1\u001b[0m\u001b[0;34m]\u001b[0m \u001b[0;32mfor\u001b[0m \u001b[0mk\u001b[0m \u001b[0;32min\u001b[0m \u001b[0menv\u001b[0m\u001b[0;34m.\u001b[0m\u001b[0menv\u001b[0m\u001b[0;34m.\u001b[0m\u001b[0mP\u001b[0m\u001b[0;34m[\u001b[0m\u001b[0;36m0\u001b[0m\u001b[0;34m]\u001b[0m\u001b[0;34m[\u001b[0m\u001b[0;36m1\u001b[0m\u001b[0;34m]\u001b[0m\u001b[0;34m[\u001b[0m\u001b[0mint\u001b[0m\u001b[0;34m(\u001b[0m\u001b[0mj\u001b[0m\u001b[0;34m)\u001b[0m\u001b[0;34m]\u001b[0m\u001b[0;34m]\u001b[0m\u001b[0;34m\u001b[0m\u001b[0m\n\u001b[0m",
      "\u001b[0;32m<ipython-input-152-a5eabc0744b2>\u001b[0m in \u001b[0;36m<listcomp>\u001b[0;34m(.0)\u001b[0m\n\u001b[0;32m----> 1\u001b[0;31m \u001b[0;34m[\u001b[0m\u001b[0mk\u001b[0m\u001b[0;34m[\u001b[0m\u001b[0;36m1\u001b[0m\u001b[0;34m]\u001b[0m \u001b[0;32mfor\u001b[0m \u001b[0mk\u001b[0m \u001b[0;32min\u001b[0m \u001b[0menv\u001b[0m\u001b[0;34m.\u001b[0m\u001b[0menv\u001b[0m\u001b[0;34m.\u001b[0m\u001b[0mP\u001b[0m\u001b[0;34m[\u001b[0m\u001b[0;36m0\u001b[0m\u001b[0;34m]\u001b[0m\u001b[0;34m[\u001b[0m\u001b[0;36m1\u001b[0m\u001b[0;34m]\u001b[0m\u001b[0;34m[\u001b[0m\u001b[0mint\u001b[0m\u001b[0;34m(\u001b[0m\u001b[0mj\u001b[0m\u001b[0;34m)\u001b[0m\u001b[0;34m]\u001b[0m\u001b[0;34m]\u001b[0m\u001b[0;34m\u001b[0m\u001b[0m\n\u001b[0m",
      "\u001b[0;31mTypeError\u001b[0m: 'float' object is not subscriptable"
     ]
    }
   ],
   "source": [
    "[k[1] for k in env.env.P[0][1][]]"
   ]
  },
  {
   "cell_type": "code",
   "execution_count": 153,
   "metadata": {},
   "outputs": [
    {
     "data": {
      "text/plain": [
       "0"
      ]
     },
     "execution_count": 153,
     "metadata": {},
     "output_type": "execute_result"
    }
   ],
   "source": [
    "j"
   ]
  },
  {
   "cell_type": "code",
   "execution_count": 148,
   "metadata": {},
   "outputs": [
    {
     "data": {
      "text/plain": [
       "3"
      ]
     },
     "execution_count": 148,
     "metadata": {},
     "output_type": "execute_result"
    }
   ],
   "source": [
    "a"
   ]
  },
  {
   "cell_type": "code",
   "execution_count": null,
   "metadata": {
    "collapsed": true
   },
   "outputs": [],
   "source": []
  }
 ],
 "metadata": {
  "anaconda-cloud": {},
  "kernelspec": {
   "display_name": "pytorch-name",
   "language": "python",
   "name": "pytorch-name"
  },
  "language_info": {
   "codemirror_mode": {
    "name": "ipython",
    "version": 3
   },
   "file_extension": ".py",
   "mimetype": "text/x-python",
   "name": "python",
   "nbconvert_exporter": "python",
   "pygments_lexer": "ipython3",
   "version": "3.5.4"
  }
 },
 "nbformat": 4,
 "nbformat_minor": 1
}
